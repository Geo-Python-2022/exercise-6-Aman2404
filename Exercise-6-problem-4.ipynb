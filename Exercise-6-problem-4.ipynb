{
 "cells": [
  {
   "attachments": {},
   "cell_type": "markdown",
   "metadata": {
    "deletable": false,
    "editable": false,
    "nbgrader": {
     "cell_type": "markdown",
     "checksum": "ba75a0814337d2c65e41c4ce37221599",
     "grade": false,
     "grade_id": "cell-bc924b1ba40193e7",
     "locked": true,
     "schema_version": 3,
     "solution": false
    }
   },
   "source": [
    "# Problem 4 (optional)\n",
    "\n",
    "Calculating weather anomalies for another location. In this optional task you get to start from scratch and download the data yourself from NOAA.\n",
    "\n",
    "## What to do\n",
    "\n",
    "1. Start by downloading your own data (daily summaries for years **1959-2018 August**) for **Sodankyla Lokka** (notice the place name should be without the letter `ä`), from the [NOAA Climate Data Online Search](https://www.ncdc.noaa.gov/cdo-web/search?datasetid=GHCND). Make sure to select the starting day (and ending day) in the date selection panel after changing the year! After you have searched, click “Add to cart” for a selected station, then go to the cart. Select the ``Custom GHCN-Daily Text`` format for the resulting output file and hit continue.\n",
    "\n",
    "    - From the `Station Detail & Data Flag Options` choose two of the following attributes: Station Name, Geographic Location. **Notice:** Do **NOT** include data flags because it makes the data difficult to read. Use **Standard** units.\n",
    "    - Take also Precipitation and Temperature which are under a separate button below. \n",
    "    - From the next page, add your own email address where the weather data will be sent after a short moment.\n",
    "\n",
    "2. After you have downloaded the data. you should first,\n",
    "\n",
    "    - Calculate the average temperature using columns `TMAX` and `TMIN` and insert those values into a new column called `TAVG`.\n",
    "\n",
    "3. Next, you should use the approaches learned during this week and used in Problem 3 to answer / do the following:\n",
    "\n",
    "    - Calculate the temperature anomalies in Sodankylä, i.e., the difference between `reference_temps` and the average temperature for each month (see Problem 3).\n",
    "    - Calculate the monthly temperature differences between the Sodankylä and Helsinki stations\n",
    "        - How different are the summer temperatures (June, July, August) between Helsinki (used in Problems 1-3) and Sodankylä?\n",
    "        - What were the summer mean temperatures for both of these stations?\n",
    "        - What were the summer standard deviations for both of these stations?\n",
    "    - Calculate the monthly differences in a DataFrame and save it (as `CSV` file) into your own Exercise repository for this week\n",
    "4. Upload your notebook and data to GitHub"
   ]
  },
  {
   "cell_type": "code",
   "execution_count": 3,
   "metadata": {},
   "outputs": [],
   "source": [
    "import pandas as pd"
   ]
  },
  {
   "cell_type": "code",
   "execution_count": 64,
   "metadata": {},
   "outputs": [],
   "source": [
    "# reading data\n",
    "data_sodankyla = pd.read_csv('data/3332584.txt',skiprows=[1],na_values=[-9999],delim_whitespace=True)"
   ]
  },
  {
   "cell_type": "code",
   "execution_count": 65,
   "metadata": {},
   "outputs": [],
   "source": [
    "# taking important columns from raw dataframe and renaming some columns names for better understading\n",
    "data_sodankyla=data_sodankyla.reset_index()[['level_0','STATION','ELEVATION','LATITUDE','LONGITUDE','DATE','PRCP','TMAX','TMIN']].rename(columns={'level_0':'Station'})"
   ]
  },
  {
   "cell_type": "code",
   "execution_count": 71,
   "metadata": {},
   "outputs": [],
   "source": [
    "# Calculating the average temperature using columns `TMAX` and `TMIN` and insert those values into a new column called `TAVG`\n",
    "data_sodankyla['TAVG']=(data_sodankyla['TMAX']+data_sodankyla['TMIN'])/2"
   ]
  },
  {
   "cell_type": "code",
   "execution_count": 72,
   "metadata": {},
   "outputs": [
    {
     "data": {
      "text/html": [
       "<div>\n",
       "<style scoped>\n",
       "    .dataframe tbody tr th:only-of-type {\n",
       "        vertical-align: middle;\n",
       "    }\n",
       "\n",
       "    .dataframe tbody tr th {\n",
       "        vertical-align: top;\n",
       "    }\n",
       "\n",
       "    .dataframe thead th {\n",
       "        text-align: right;\n",
       "    }\n",
       "</style>\n",
       "<table border=\"1\" class=\"dataframe\">\n",
       "  <thead>\n",
       "    <tr style=\"text-align: right;\">\n",
       "      <th></th>\n",
       "      <th>Station</th>\n",
       "      <th>STATION</th>\n",
       "      <th>ELEVATION</th>\n",
       "      <th>LATITUDE</th>\n",
       "      <th>LONGITUDE</th>\n",
       "      <th>DATE</th>\n",
       "      <th>PRCP</th>\n",
       "      <th>TMAX</th>\n",
       "      <th>TMIN</th>\n",
       "      <th>YEAR</th>\n",
       "      <th>MONTH</th>\n",
       "      <th>TAVG</th>\n",
       "    </tr>\n",
       "  </thead>\n",
       "  <tbody>\n",
       "    <tr>\n",
       "      <th>22580</th>\n",
       "      <td>GHCND:FIE00146538</td>\n",
       "      <td>LOKKA</td>\n",
       "      <td>240</td>\n",
       "      <td>67.8206</td>\n",
       "      <td>27.7503</td>\n",
       "      <td>20230327</td>\n",
       "      <td>0.00</td>\n",
       "      <td>23.0</td>\n",
       "      <td>-21.0</td>\n",
       "      <td>2023</td>\n",
       "      <td>03</td>\n",
       "      <td>1.0</td>\n",
       "    </tr>\n",
       "    <tr>\n",
       "      <th>22581</th>\n",
       "      <td>GHCND:FIE00146538</td>\n",
       "      <td>LOKKA</td>\n",
       "      <td>240</td>\n",
       "      <td>67.8206</td>\n",
       "      <td>27.7503</td>\n",
       "      <td>20230328</td>\n",
       "      <td>0.00</td>\n",
       "      <td>20.0</td>\n",
       "      <td>-19.0</td>\n",
       "      <td>2023</td>\n",
       "      <td>03</td>\n",
       "      <td>0.5</td>\n",
       "    </tr>\n",
       "    <tr>\n",
       "      <th>22582</th>\n",
       "      <td>GHCND:FIE00146538</td>\n",
       "      <td>LOKKA</td>\n",
       "      <td>240</td>\n",
       "      <td>67.8206</td>\n",
       "      <td>27.7503</td>\n",
       "      <td>20230329</td>\n",
       "      <td>0.20</td>\n",
       "      <td>22.0</td>\n",
       "      <td>-7.0</td>\n",
       "      <td>2023</td>\n",
       "      <td>03</td>\n",
       "      <td>7.5</td>\n",
       "    </tr>\n",
       "    <tr>\n",
       "      <th>22583</th>\n",
       "      <td>GHCND:FIE00146538</td>\n",
       "      <td>LOKKA</td>\n",
       "      <td>240</td>\n",
       "      <td>67.8206</td>\n",
       "      <td>27.7503</td>\n",
       "      <td>20230330</td>\n",
       "      <td>0.02</td>\n",
       "      <td>24.0</td>\n",
       "      <td>12.0</td>\n",
       "      <td>2023</td>\n",
       "      <td>03</td>\n",
       "      <td>18.0</td>\n",
       "    </tr>\n",
       "    <tr>\n",
       "      <th>22584</th>\n",
       "      <td>GHCND:FIE00146538</td>\n",
       "      <td>LOKKA</td>\n",
       "      <td>240</td>\n",
       "      <td>67.8206</td>\n",
       "      <td>27.7503</td>\n",
       "      <td>20230331</td>\n",
       "      <td>0.00</td>\n",
       "      <td>26.0</td>\n",
       "      <td>5.0</td>\n",
       "      <td>2023</td>\n",
       "      <td>03</td>\n",
       "      <td>15.5</td>\n",
       "    </tr>\n",
       "  </tbody>\n",
       "</table>\n",
       "</div>"
      ],
      "text/plain": [
       "                 Station STATION  ELEVATION  LATITUDE  LONGITUDE      DATE  \\\n",
       "22580  GHCND:FIE00146538   LOKKA        240   67.8206    27.7503  20230327   \n",
       "22581  GHCND:FIE00146538   LOKKA        240   67.8206    27.7503  20230328   \n",
       "22582  GHCND:FIE00146538   LOKKA        240   67.8206    27.7503  20230329   \n",
       "22583  GHCND:FIE00146538   LOKKA        240   67.8206    27.7503  20230330   \n",
       "22584  GHCND:FIE00146538   LOKKA        240   67.8206    27.7503  20230331   \n",
       "\n",
       "       PRCP  TMAX  TMIN  YEAR MONTH  TAVG  \n",
       "22580  0.00  23.0 -21.0  2023    03   1.0  \n",
       "22581  0.00  20.0 -19.0  2023    03   0.5  \n",
       "22582  0.20  22.0  -7.0  2023    03   7.5  \n",
       "22583  0.02  24.0  12.0  2023    03  18.0  \n",
       "22584  0.00  26.0   5.0  2023    03  15.5  "
      ]
     },
     "execution_count": 72,
     "metadata": {},
     "output_type": "execute_result"
    }
   ],
   "source": [
    "# Slice the DATE COLUMN string for extracting year and month column\n",
    "data_sodankyla[\"YEAR\"] = data_sodankyla[\"DATE\"].astype('str').str.slice(start=0, stop=4)\n",
    "data_sodankyla[\"MONTH\"] = data_sodankyla[\"DATE\"].astype('str').str.slice(start=4, stop=6)\n",
    "# Let's see what we have\n",
    "data_sodankyla.tail()"
   ]
  },
  {
   "cell_type": "code",
   "execution_count": 73,
   "metadata": {},
   "outputs": [],
   "source": [
    "def fahr_to_celsius(temp_fahrenheit):\n",
    "    \"\"\"Function to convert Fahrenheit temperature into Celsius.\n",
    "\n",
    "    \"\"\"\n",
    "\n",
    "    # Convert the Fahrenheit into Celsius\n",
    "    converted_temp = (temp_fahrenheit - 32) / 1.8\n",
    "\n",
    "    return converted_temp"
   ]
  },
  {
   "cell_type": "code",
   "execution_count": 74,
   "metadata": {},
   "outputs": [],
   "source": [
    "# applying fahr_to_celsius function on TAVG column for converting temp into celsisus and storing the values in celsius column\n",
    "data_sodankyla['celsius']=data_sodankyla['TAVG'].apply(fahr_to_celsius)"
   ]
  },
  {
   "cell_type": "code",
   "execution_count": 90,
   "metadata": {},
   "outputs": [],
   "source": [
    "# performing groupby on year and month columns and applying mean on celsisus column\n",
    "monthly_mean_temp_sodankyla=data_sodankyla.groupby(['YEAR','MONTH'])['celsius'].agg(['mean'])"
   ]
  },
  {
   "cell_type": "code",
   "execution_count": 91,
   "metadata": {},
   "outputs": [],
   "source": [
    "# creating new dataframe named monthly_data and storing mean temperature year and month in temp_celsius column in monthly_data dataframe\n",
    "monthly_data_sodankyla=pd.DataFrame()\n",
    "monthly_data_sodankyla['temp_celsius']=monthly_mean_temp_sodankyla['mean']"
   ]
  },
  {
   "cell_type": "code",
   "execution_count": 92,
   "metadata": {},
   "outputs": [],
   "source": [
    "monthly_data_sodankyla=monthly_data_sodankyla.reset_index()"
   ]
  },
  {
   "cell_type": "code",
   "execution_count": 94,
   "metadata": {},
   "outputs": [],
   "source": [
    "# # creating new data frame named ref_temp by filtering data frame based on year  and performing group by on month to create data frame mention in above picture\n",
    "ref_temp_sodankyla=pd.DataFrame({'ref_temp_sodankyla':data_sodankyla[(data_sodankyla['YEAR'].astype('int') >=  1952) & (data_sodankyla['YEAR'].astype('int') <= 1980)].groupby('MONTH')['celsius'].mean()})"
   ]
  },
  {
   "cell_type": "code",
   "execution_count": 95,
   "metadata": {},
   "outputs": [],
   "source": [
    "ref_temp_sodankyla=ref_temp_sodankyla.reset_index()"
   ]
  },
  {
   "cell_type": "code",
   "execution_count": 100,
   "metadata": {},
   "outputs": [
    {
     "data": {
      "text/html": [
       "<div>\n",
       "<style scoped>\n",
       "    .dataframe tbody tr th:only-of-type {\n",
       "        vertical-align: middle;\n",
       "    }\n",
       "\n",
       "    .dataframe tbody tr th {\n",
       "        vertical-align: top;\n",
       "    }\n",
       "\n",
       "    .dataframe thead th {\n",
       "        text-align: right;\n",
       "    }\n",
       "</style>\n",
       "<table border=\"1\" class=\"dataframe\">\n",
       "  <thead>\n",
       "    <tr style=\"text-align: right;\">\n",
       "      <th></th>\n",
       "      <th>MONTH</th>\n",
       "      <th>ref_temp</th>\n",
       "    </tr>\n",
       "  </thead>\n",
       "  <tbody>\n",
       "    <tr>\n",
       "      <th>0</th>\n",
       "      <td>01</td>\n",
       "      <td>-16.153425</td>\n",
       "    </tr>\n",
       "    <tr>\n",
       "      <th>1</th>\n",
       "      <td>02</td>\n",
       "      <td>-16.216231</td>\n",
       "    </tr>\n",
       "    <tr>\n",
       "      <th>2</th>\n",
       "      <td>03</td>\n",
       "      <td>-11.184289</td>\n",
       "    </tr>\n",
       "    <tr>\n",
       "      <th>3</th>\n",
       "      <td>04</td>\n",
       "      <td>-4.104938</td>\n",
       "    </tr>\n",
       "    <tr>\n",
       "      <th>4</th>\n",
       "      <td>05</td>\n",
       "      <td>3.423411</td>\n",
       "    </tr>\n",
       "    <tr>\n",
       "      <th>5</th>\n",
       "      <td>06</td>\n",
       "      <td>10.291667</td>\n",
       "    </tr>\n",
       "    <tr>\n",
       "      <th>6</th>\n",
       "      <td>07</td>\n",
       "      <td>12.935290</td>\n",
       "    </tr>\n",
       "    <tr>\n",
       "      <th>7</th>\n",
       "      <td>08</td>\n",
       "      <td>10.635753</td>\n",
       "    </tr>\n",
       "    <tr>\n",
       "      <th>8</th>\n",
       "      <td>09</td>\n",
       "      <td>5.119444</td>\n",
       "    </tr>\n",
       "    <tr>\n",
       "      <th>9</th>\n",
       "      <td>10</td>\n",
       "      <td>-1.918459</td>\n",
       "    </tr>\n",
       "    <tr>\n",
       "      <th>10</th>\n",
       "      <td>11</td>\n",
       "      <td>-7.987963</td>\n",
       "    </tr>\n",
       "    <tr>\n",
       "      <th>11</th>\n",
       "      <td>12</td>\n",
       "      <td>-13.147401</td>\n",
       "    </tr>\n",
       "  </tbody>\n",
       "</table>\n",
       "</div>"
      ],
      "text/plain": [
       "   MONTH   ref_temp\n",
       "0     01 -16.153425\n",
       "1     02 -16.216231\n",
       "2     03 -11.184289\n",
       "3     04  -4.104938\n",
       "4     05   3.423411\n",
       "5     06  10.291667\n",
       "6     07  12.935290\n",
       "7     08  10.635753\n",
       "8     09   5.119444\n",
       "9     10  -1.918459\n",
       "10    11  -7.987963\n",
       "11    12 -13.147401"
      ]
     },
     "execution_count": 100,
     "metadata": {},
     "output_type": "execute_result"
    }
   ],
   "source": [
    "# now ref_temp contain mean temperature for months from 1952 to 1980 period.\n",
    "ref_temp_sodankyla"
   ]
  },
  {
   "cell_type": "code",
   "execution_count": 96,
   "metadata": {},
   "outputs": [],
   "source": [
    "# merging ref_temp and monthly_data dataframe based on month column\n",
    "monthly_data_sodankyla = monthly_data_sodankyla.merge(ref_temp_sodankyla, on='MONTH')"
   ]
  },
  {
   "cell_type": "code",
   "execution_count": 97,
   "metadata": {},
   "outputs": [
    {
     "data": {
      "text/html": [
       "<div>\n",
       "<style scoped>\n",
       "    .dataframe tbody tr th:only-of-type {\n",
       "        vertical-align: middle;\n",
       "    }\n",
       "\n",
       "    .dataframe tbody tr th {\n",
       "        vertical-align: top;\n",
       "    }\n",
       "\n",
       "    .dataframe thead th {\n",
       "        text-align: right;\n",
       "    }\n",
       "</style>\n",
       "<table border=\"1\" class=\"dataframe\">\n",
       "  <thead>\n",
       "    <tr style=\"text-align: right;\">\n",
       "      <th></th>\n",
       "      <th>YEAR</th>\n",
       "      <th>MONTH</th>\n",
       "      <th>temp_celsius</th>\n",
       "      <th>ref_temp</th>\n",
       "    </tr>\n",
       "  </thead>\n",
       "  <tbody>\n",
       "    <tr>\n",
       "      <th>0</th>\n",
       "      <td>1959</td>\n",
       "      <td>01</td>\n",
       "      <td>NaN</td>\n",
       "      <td>-16.153425</td>\n",
       "    </tr>\n",
       "    <tr>\n",
       "      <th>1</th>\n",
       "      <td>1960</td>\n",
       "      <td>01</td>\n",
       "      <td>-19.121864</td>\n",
       "      <td>-16.153425</td>\n",
       "    </tr>\n",
       "    <tr>\n",
       "      <th>2</th>\n",
       "      <td>1961</td>\n",
       "      <td>01</td>\n",
       "      <td>-11.182796</td>\n",
       "      <td>-16.153425</td>\n",
       "    </tr>\n",
       "    <tr>\n",
       "      <th>3</th>\n",
       "      <td>1962</td>\n",
       "      <td>01</td>\n",
       "      <td>-15.421147</td>\n",
       "      <td>-16.153425</td>\n",
       "    </tr>\n",
       "    <tr>\n",
       "      <th>4</th>\n",
       "      <td>1963</td>\n",
       "      <td>01</td>\n",
       "      <td>-18.145161</td>\n",
       "      <td>-16.153425</td>\n",
       "    </tr>\n",
       "  </tbody>\n",
       "</table>\n",
       "</div>"
      ],
      "text/plain": [
       "   YEAR MONTH  temp_celsius   ref_temp\n",
       "0  1959    01           NaN -16.153425\n",
       "1  1960    01    -19.121864 -16.153425\n",
       "2  1961    01    -11.182796 -16.153425\n",
       "3  1962    01    -15.421147 -16.153425\n",
       "4  1963    01    -18.145161 -16.153425"
      ]
     },
     "execution_count": 97,
     "metadata": {},
     "output_type": "execute_result"
    }
   ],
   "source": [
    "# Check the monthly data:\n",
    "monthly_data_sodankyla.head()"
   ]
  },
  {
   "cell_type": "code",
   "execution_count": 98,
   "metadata": {},
   "outputs": [],
   "source": [
    "# in mothly_data dataframe creating new column diff by taking difference of temp_celsius and ref_temp\n",
    "monthly_data_sodankyla['diff']=monthly_data_sodankyla['temp_celsius']-monthly_data_sodankyla['ref_temp']"
   ]
  },
  {
   "cell_type": "code",
   "execution_count": 99,
   "metadata": {},
   "outputs": [
    {
     "data": {
      "text/html": [
       "<div>\n",
       "<style scoped>\n",
       "    .dataframe tbody tr th:only-of-type {\n",
       "        vertical-align: middle;\n",
       "    }\n",
       "\n",
       "    .dataframe tbody tr th {\n",
       "        vertical-align: top;\n",
       "    }\n",
       "\n",
       "    .dataframe thead th {\n",
       "        text-align: right;\n",
       "    }\n",
       "</style>\n",
       "<table border=\"1\" class=\"dataframe\">\n",
       "  <thead>\n",
       "    <tr style=\"text-align: right;\">\n",
       "      <th></th>\n",
       "      <th>temp_celsius</th>\n",
       "      <th>ref_temp</th>\n",
       "      <th>diff</th>\n",
       "    </tr>\n",
       "  </thead>\n",
       "  <tbody>\n",
       "    <tr>\n",
       "      <th>count</th>\n",
       "      <td>738.000000</td>\n",
       "      <td>742.000000</td>\n",
       "      <td>738.000000</td>\n",
       "    </tr>\n",
       "    <tr>\n",
       "      <th>mean</th>\n",
       "      <td>-1.331566</td>\n",
       "      <td>-2.364368</td>\n",
       "      <td>0.981039</td>\n",
       "    </tr>\n",
       "    <tr>\n",
       "      <th>std</th>\n",
       "      <td>10.218366</td>\n",
       "      <td>10.280315</td>\n",
       "      <td>2.931099</td>\n",
       "    </tr>\n",
       "    <tr>\n",
       "      <th>min</th>\n",
       "      <td>-24.543651</td>\n",
       "      <td>-16.216231</td>\n",
       "      <td>-8.428704</td>\n",
       "    </tr>\n",
       "    <tr>\n",
       "      <th>25%</th>\n",
       "      <td>-9.997685</td>\n",
       "      <td>-12.656623</td>\n",
       "      <td>-0.745139</td>\n",
       "    </tr>\n",
       "    <tr>\n",
       "      <th>50%</th>\n",
       "      <td>-1.521207</td>\n",
       "      <td>-3.011699</td>\n",
       "      <td>0.882572</td>\n",
       "    </tr>\n",
       "    <tr>\n",
       "      <th>75%</th>\n",
       "      <td>8.227001</td>\n",
       "      <td>8.998611</td>\n",
       "      <td>2.686014</td>\n",
       "    </tr>\n",
       "    <tr>\n",
       "      <th>max</th>\n",
       "      <td>17.706093</td>\n",
       "      <td>12.935290</td>\n",
       "      <td>12.158691</td>\n",
       "    </tr>\n",
       "  </tbody>\n",
       "</table>\n",
       "</div>"
      ],
      "text/plain": [
       "       temp_celsius    ref_temp        diff\n",
       "count    738.000000  742.000000  738.000000\n",
       "mean      -1.331566   -2.364368    0.981039\n",
       "std       10.218366   10.280315    2.931099\n",
       "min      -24.543651  -16.216231   -8.428704\n",
       "25%       -9.997685  -12.656623   -0.745139\n",
       "50%       -1.521207   -3.011699    0.882572\n",
       "75%        8.227001    8.998611    2.686014\n",
       "max       17.706093   12.935290   12.158691"
      ]
     },
     "execution_count": 99,
     "metadata": {},
     "output_type": "execute_result"
    }
   ],
   "source": [
    "# Print out desriptive statistics for the relevant columns:\n",
    "monthly_data_sodankyla[[\"temp_celsius\", \"ref_temp\", \"diff\"]].describe()"
   ]
  },
  {
   "cell_type": "code",
   "execution_count": 103,
   "metadata": {},
   "outputs": [],
   "source": [
    "# calculating largest temperature anomaly during the observed time period\n",
    "anomaly_temp_sodankyla=monthly_data_sodankyla.reindex(monthly_data_sodankyla['diff'].abs().sort_values(ascending=False).index)"
   ]
  },
  {
   "cell_type": "code",
   "execution_count": 104,
   "metadata": {},
   "outputs": [
    {
     "data": {
      "text/html": [
       "<div>\n",
       "<style scoped>\n",
       "    .dataframe tbody tr th:only-of-type {\n",
       "        vertical-align: middle;\n",
       "    }\n",
       "\n",
       "    .dataframe tbody tr th {\n",
       "        vertical-align: top;\n",
       "    }\n",
       "\n",
       "    .dataframe thead th {\n",
       "        text-align: right;\n",
       "    }\n",
       "</style>\n",
       "<table border=\"1\" class=\"dataframe\">\n",
       "  <thead>\n",
       "    <tr style=\"text-align: right;\">\n",
       "      <th></th>\n",
       "      <th>YEAR</th>\n",
       "      <th>MONTH</th>\n",
       "      <th>temp_celsius</th>\n",
       "      <th>ref_temp</th>\n",
       "      <th>diff</th>\n",
       "    </tr>\n",
       "  </thead>\n",
       "  <tbody>\n",
       "    <tr>\n",
       "      <th>90</th>\n",
       "      <td>1990</td>\n",
       "      <td>02</td>\n",
       "      <td>-4.05754</td>\n",
       "      <td>-16.216231</td>\n",
       "      <td>12.158691</td>\n",
       "    </tr>\n",
       "  </tbody>\n",
       "</table>\n",
       "</div>"
      ],
      "text/plain": [
       "    YEAR MONTH  temp_celsius   ref_temp       diff\n",
       "90  1990    02      -4.05754 -16.216231  12.158691"
      ]
     },
     "execution_count": 104,
     "metadata": {},
     "output_type": "execute_result"
    }
   ],
   "source": [
    "anomaly_temp_sodankyla.head(1)"
   ]
  },
  {
   "cell_type": "code",
   "execution_count": 105,
   "metadata": {},
   "outputs": [
    {
     "name": "stdout",
     "output_type": "stream",
     "text": [
      "Month with the largest temperature anomaly:02\n"
     ]
    }
   ],
   "source": [
    "# Print the month with the largest temperature anomaly\n",
    "print(f'Month with the largest temperature anomaly:{anomaly_temp.iloc[0,1]}')"
   ]
  },
  {
   "cell_type": "code",
   "execution_count": 106,
   "metadata": {},
   "outputs": [
    {
     "name": "stdout",
     "output_type": "stream",
     "text": [
      "The largest positive temperature anomaly during the observed time period was 12.16 degrees Celsius.\n",
      "The largest negative temperature anomaly during the observed time period was -8.43 degrees Celsius.\n"
     ]
    }
   ],
   "source": [
    "# YOUR CODE HERE\n",
    "print(f\"The largest positive temperature anomaly during the observed time period was {monthly_data_sodankyla['diff'].max():.2f} degrees Celsius.\")\n",
    "print(f\"The largest negative temperature anomaly during the observed time period was {monthly_data_sodankyla['diff'].min():.2f} degrees Celsius.\")"
   ]
  },
  {
   "attachments": {},
   "cell_type": "markdown",
   "metadata": {},
   "source": [
    "## How different are the summer temperatures (June, July, August) between Helsinki (used in Problems 1-3) and Sodankylä?"
   ]
  },
  {
   "cell_type": "code",
   "execution_count": 145,
   "metadata": {},
   "outputs": [],
   "source": [
    "# preparing dataframe for sodankyla summer months\n",
    "summer_temp_sodankyla=pd.DataFrame({'ref_temp_sodankyla':data_sodankyla[(data['YEAR'].astype('int') >=  1952) & (data_sodankyla['YEAR'].astype('int') <= 1980)].groupby('MONTH')['celsius'].mean()})"
   ]
  },
  {
   "cell_type": "code",
   "execution_count": 146,
   "metadata": {},
   "outputs": [],
   "source": [
    "# june ,july ,august month average temperature sodankyla\n",
    "summer_temp_sodankyla=summer_temp_sodankyla.reset_index().iloc[[5,6,7]]"
   ]
  },
  {
   "cell_type": "code",
   "execution_count": 147,
   "metadata": {},
   "outputs": [
    {
     "data": {
      "text/html": [
       "<div>\n",
       "<style scoped>\n",
       "    .dataframe tbody tr th:only-of-type {\n",
       "        vertical-align: middle;\n",
       "    }\n",
       "\n",
       "    .dataframe tbody tr th {\n",
       "        vertical-align: top;\n",
       "    }\n",
       "\n",
       "    .dataframe thead th {\n",
       "        text-align: right;\n",
       "    }\n",
       "</style>\n",
       "<table border=\"1\" class=\"dataframe\">\n",
       "  <thead>\n",
       "    <tr style=\"text-align: right;\">\n",
       "      <th></th>\n",
       "      <th>MONTH</th>\n",
       "      <th>ref_temp_sodankyla</th>\n",
       "    </tr>\n",
       "  </thead>\n",
       "  <tbody>\n",
       "    <tr>\n",
       "      <th>5</th>\n",
       "      <td>06</td>\n",
       "      <td>10.291667</td>\n",
       "    </tr>\n",
       "    <tr>\n",
       "      <th>6</th>\n",
       "      <td>07</td>\n",
       "      <td>12.935290</td>\n",
       "    </tr>\n",
       "    <tr>\n",
       "      <th>7</th>\n",
       "      <td>08</td>\n",
       "      <td>10.635753</td>\n",
       "    </tr>\n",
       "  </tbody>\n",
       "</table>\n",
       "</div>"
      ],
      "text/plain": [
       "  MONTH  ref_temp_sodankyla\n",
       "5    06           10.291667\n",
       "6    07           12.935290\n",
       "7    08           10.635753"
      ]
     },
     "execution_count": 147,
     "metadata": {},
     "output_type": "execute_result"
    }
   ],
   "source": [
    "summer_temp_sodankyla"
   ]
  },
  {
   "cell_type": "code",
   "execution_count": 148,
   "metadata": {},
   "outputs": [],
   "source": [
    "#reading data\n",
    "data_helsinki = pd.read_csv('data/1091402.txt',skiprows=[1],na_values=[-9999],delim_whitespace=True)"
   ]
  },
  {
   "cell_type": "code",
   "execution_count": 149,
   "metadata": {},
   "outputs": [
    {
     "data": {
      "text/html": [
       "<div>\n",
       "<style scoped>\n",
       "    .dataframe tbody tr th:only-of-type {\n",
       "        vertical-align: middle;\n",
       "    }\n",
       "\n",
       "    .dataframe tbody tr th {\n",
       "        vertical-align: top;\n",
       "    }\n",
       "\n",
       "    .dataframe thead th {\n",
       "        text-align: right;\n",
       "    }\n",
       "</style>\n",
       "<table border=\"1\" class=\"dataframe\">\n",
       "  <thead>\n",
       "    <tr style=\"text-align: right;\">\n",
       "      <th></th>\n",
       "      <th>STATION</th>\n",
       "      <th>ELEVATION</th>\n",
       "      <th>LATITUDE</th>\n",
       "      <th>LONGITUDE</th>\n",
       "      <th>DATE</th>\n",
       "      <th>PRCP</th>\n",
       "      <th>TAVG</th>\n",
       "      <th>TMAX</th>\n",
       "      <th>TMIN</th>\n",
       "      <th>YEAR</th>\n",
       "      <th>MONTH</th>\n",
       "    </tr>\n",
       "  </thead>\n",
       "  <tbody>\n",
       "    <tr>\n",
       "      <th>23711</th>\n",
       "      <td>GHCND:FIE00142080</td>\n",
       "      <td>51</td>\n",
       "      <td>60.3269</td>\n",
       "      <td>24.9603</td>\n",
       "      <td>20170930</td>\n",
       "      <td>NaN</td>\n",
       "      <td>47.0</td>\n",
       "      <td>49.0</td>\n",
       "      <td>44.0</td>\n",
       "      <td>2017</td>\n",
       "      <td>09</td>\n",
       "    </tr>\n",
       "    <tr>\n",
       "      <th>23712</th>\n",
       "      <td>GHCND:FIE00142080</td>\n",
       "      <td>51</td>\n",
       "      <td>60.3269</td>\n",
       "      <td>24.9603</td>\n",
       "      <td>20171001</td>\n",
       "      <td>0.04</td>\n",
       "      <td>47.0</td>\n",
       "      <td>48.0</td>\n",
       "      <td>45.0</td>\n",
       "      <td>2017</td>\n",
       "      <td>10</td>\n",
       "    </tr>\n",
       "    <tr>\n",
       "      <th>23713</th>\n",
       "      <td>GHCND:FIE00142080</td>\n",
       "      <td>51</td>\n",
       "      <td>60.3269</td>\n",
       "      <td>24.9603</td>\n",
       "      <td>20171002</td>\n",
       "      <td>NaN</td>\n",
       "      <td>47.0</td>\n",
       "      <td>49.0</td>\n",
       "      <td>46.0</td>\n",
       "      <td>2017</td>\n",
       "      <td>10</td>\n",
       "    </tr>\n",
       "    <tr>\n",
       "      <th>23714</th>\n",
       "      <td>GHCND:FIE00142080</td>\n",
       "      <td>51</td>\n",
       "      <td>60.3269</td>\n",
       "      <td>24.9603</td>\n",
       "      <td>20171003</td>\n",
       "      <td>0.94</td>\n",
       "      <td>47.0</td>\n",
       "      <td>NaN</td>\n",
       "      <td>44.0</td>\n",
       "      <td>2017</td>\n",
       "      <td>10</td>\n",
       "    </tr>\n",
       "    <tr>\n",
       "      <th>23715</th>\n",
       "      <td>GHCND:FIE00142080</td>\n",
       "      <td>51</td>\n",
       "      <td>60.3269</td>\n",
       "      <td>24.9603</td>\n",
       "      <td>20171004</td>\n",
       "      <td>0.51</td>\n",
       "      <td>52.0</td>\n",
       "      <td>56.0</td>\n",
       "      <td>NaN</td>\n",
       "      <td>2017</td>\n",
       "      <td>10</td>\n",
       "    </tr>\n",
       "  </tbody>\n",
       "</table>\n",
       "</div>"
      ],
      "text/plain": [
       "                 STATION  ELEVATION  LATITUDE  LONGITUDE      DATE  PRCP  \\\n",
       "23711  GHCND:FIE00142080         51   60.3269    24.9603  20170930   NaN   \n",
       "23712  GHCND:FIE00142080         51   60.3269    24.9603  20171001  0.04   \n",
       "23713  GHCND:FIE00142080         51   60.3269    24.9603  20171002   NaN   \n",
       "23714  GHCND:FIE00142080         51   60.3269    24.9603  20171003  0.94   \n",
       "23715  GHCND:FIE00142080         51   60.3269    24.9603  20171004  0.51   \n",
       "\n",
       "       TAVG  TMAX  TMIN  YEAR MONTH  \n",
       "23711  47.0  49.0  44.0  2017    09  \n",
       "23712  47.0  48.0  45.0  2017    10  \n",
       "23713  47.0  49.0  46.0  2017    10  \n",
       "23714  47.0   NaN  44.0  2017    10  \n",
       "23715  52.0  56.0   NaN  2017    10  "
      ]
     },
     "execution_count": 149,
     "metadata": {},
     "output_type": "execute_result"
    }
   ],
   "source": [
    "# Slice the DATE COLUMN string for extracting year and month column\n",
    "data_helsinki[\"YEAR\"] = data_helsinki[\"DATE\"].astype('str').str.slice(start=0, stop=4)\n",
    "data_helsinki[\"MONTH\"] = data_helsinki[\"DATE\"].astype('str').str.slice(start=4, stop=6)\n",
    "# Let's see what we have\n",
    "data_helsinki.tail()"
   ]
  },
  {
   "cell_type": "code",
   "execution_count": 150,
   "metadata": {},
   "outputs": [],
   "source": [
    "# applying fahr_to_celsius function on TAVG column for converting temp into celsisus and storing the values in celsius column\n",
    "data_helsinki['celsius']=data_helsinki['TAVG'].apply(fahr_to_celsius)"
   ]
  },
  {
   "cell_type": "code",
   "execution_count": 175,
   "metadata": {},
   "outputs": [],
   "source": [
    "# preparing dataframe for helsinki summer months\n",
    "ref_temp_helsinki=pd.DataFrame({'ref_temp_helsinki':data_helsinki[(data_helsinki['YEAR'].astype('int') >=  1952) & (data_helsinki['YEAR'].astype('int') <= 1980)].groupby('MONTH')['celsius'].mean()})"
   ]
  },
  {
   "cell_type": "code",
   "execution_count": 176,
   "metadata": {},
   "outputs": [],
   "source": [
    "# june ,july ,august month average temperature helsinki\n",
    "summer_temp_helsinki=ref_temp_helsinki.reset_index().iloc[[5,6,7]]"
   ]
  },
  {
   "cell_type": "code",
   "execution_count": 153,
   "metadata": {},
   "outputs": [
    {
     "data": {
      "text/html": [
       "<div>\n",
       "<style scoped>\n",
       "    .dataframe tbody tr th:only-of-type {\n",
       "        vertical-align: middle;\n",
       "    }\n",
       "\n",
       "    .dataframe tbody tr th {\n",
       "        vertical-align: top;\n",
       "    }\n",
       "\n",
       "    .dataframe thead th {\n",
       "        text-align: right;\n",
       "    }\n",
       "</style>\n",
       "<table border=\"1\" class=\"dataframe\">\n",
       "  <thead>\n",
       "    <tr style=\"text-align: right;\">\n",
       "      <th></th>\n",
       "      <th>MONTH</th>\n",
       "      <th>ref_temp_helsinki</th>\n",
       "    </tr>\n",
       "  </thead>\n",
       "  <tbody>\n",
       "    <tr>\n",
       "      <th>5</th>\n",
       "      <td>06</td>\n",
       "      <td>14.711898</td>\n",
       "    </tr>\n",
       "    <tr>\n",
       "      <th>6</th>\n",
       "      <td>07</td>\n",
       "      <td>16.498881</td>\n",
       "    </tr>\n",
       "    <tr>\n",
       "      <th>7</th>\n",
       "      <td>08</td>\n",
       "      <td>15.022075</td>\n",
       "    </tr>\n",
       "  </tbody>\n",
       "</table>\n",
       "</div>"
      ],
      "text/plain": [
       "  MONTH  ref_temp_helsinki\n",
       "5    06          14.711898\n",
       "6    07          16.498881\n",
       "7    08          15.022075"
      ]
     },
     "execution_count": 153,
     "metadata": {},
     "output_type": "execute_result"
    }
   ],
   "source": [
    "#summer temperature in helsinki\n",
    "summer_temp_helsinki"
   ]
  },
  {
   "cell_type": "code",
   "execution_count": 154,
   "metadata": {},
   "outputs": [],
   "source": [
    "# creating dataframe for summer statistics\n",
    "summer_stats=pd.DataFrame()"
   ]
  },
  {
   "cell_type": "code",
   "execution_count": 155,
   "metadata": {},
   "outputs": [],
   "source": [
    "# merging summer_temp_helsinki and summer_temp_sodankyla on basis of month\n",
    "summer_stats = summer_temp_helsinki.merge(summer_temp_sodankyla, on='MONTH')"
   ]
  },
  {
   "cell_type": "code",
   "execution_count": 156,
   "metadata": {},
   "outputs": [],
   "source": [
    "# calculating monthly temperature difference\n",
    "summer_stats['diff_summer']=summer_stats['ref_temp_helsinki']-summer_stats['ref_temp_sodankyla']"
   ]
  },
  {
   "cell_type": "code",
   "execution_count": 157,
   "metadata": {},
   "outputs": [
    {
     "data": {
      "text/html": [
       "<div>\n",
       "<style scoped>\n",
       "    .dataframe tbody tr th:only-of-type {\n",
       "        vertical-align: middle;\n",
       "    }\n",
       "\n",
       "    .dataframe tbody tr th {\n",
       "        vertical-align: top;\n",
       "    }\n",
       "\n",
       "    .dataframe thead th {\n",
       "        text-align: right;\n",
       "    }\n",
       "</style>\n",
       "<table border=\"1\" class=\"dataframe\">\n",
       "  <thead>\n",
       "    <tr style=\"text-align: right;\">\n",
       "      <th></th>\n",
       "      <th>MONTH</th>\n",
       "      <th>ref_temp_helsinki</th>\n",
       "      <th>ref_temp_sodankyla</th>\n",
       "      <th>diff_summer</th>\n",
       "    </tr>\n",
       "  </thead>\n",
       "  <tbody>\n",
       "    <tr>\n",
       "      <th>0</th>\n",
       "      <td>06</td>\n",
       "      <td>14.711898</td>\n",
       "      <td>10.291667</td>\n",
       "      <td>4.420231</td>\n",
       "    </tr>\n",
       "    <tr>\n",
       "      <th>1</th>\n",
       "      <td>07</td>\n",
       "      <td>16.498881</td>\n",
       "      <td>12.935290</td>\n",
       "      <td>3.563592</td>\n",
       "    </tr>\n",
       "    <tr>\n",
       "      <th>2</th>\n",
       "      <td>08</td>\n",
       "      <td>15.022075</td>\n",
       "      <td>10.635753</td>\n",
       "      <td>4.386322</td>\n",
       "    </tr>\n",
       "  </tbody>\n",
       "</table>\n",
       "</div>"
      ],
      "text/plain": [
       "  MONTH  ref_temp_helsinki  ref_temp_sodankyla  diff_summer\n",
       "0    06          14.711898           10.291667     4.420231\n",
       "1    07          16.498881           12.935290     3.563592\n",
       "2    08          15.022075           10.635753     4.386322"
      ]
     },
     "execution_count": 157,
     "metadata": {},
     "output_type": "execute_result"
    }
   ],
   "source": [
    "summer_stats"
   ]
  },
  {
   "attachments": {},
   "cell_type": "markdown",
   "metadata": {},
   "source": [
    "- What were the summer mean temperatures for both of these stations?\n",
    "        - What were the summer standard deviations for both of these stations?"
   ]
  },
  {
   "cell_type": "code",
   "execution_count": 164,
   "metadata": {},
   "outputs": [
    {
     "name": "stdout",
     "output_type": "stream",
     "text": [
      "mean and standard deviation in temperature in helsinki respectively 15.410951408467128 and 0.9548540692973404\n"
     ]
    }
   ],
   "source": [
    "print(f'mean and standard deviation in temperature in helsinki respectively {summer_stats.ref_temp_helsinki.mean()} and {summer_stats.ref_temp_helsinki.std()}')"
   ]
  },
  {
   "cell_type": "code",
   "execution_count": 165,
   "metadata": {},
   "outputs": [
    {
     "name": "stdout",
     "output_type": "stream",
     "text": [
      "mean and standard deviation in temperature in sodankyla respectively 11.287569749644376 and 1.437301309179359\n"
     ]
    }
   ],
   "source": [
    "print(f'mean and standard deviation in temperature in sodankyla respectively {summer_stats.ref_temp_sodankyla.mean()} and {summer_stats.ref_temp_sodankyla.std()}')"
   ]
  },
  {
   "attachments": {},
   "cell_type": "markdown",
   "metadata": {},
   "source": [
    "## Monthly difference"
   ]
  },
  {
   "cell_type": "code",
   "execution_count": 200,
   "metadata": {},
   "outputs": [],
   "source": [
    "# monthly temperature of helsinki\n",
    "ref_temp_helsinki=ref_temp_helsinki.reset_index()"
   ]
  },
  {
   "cell_type": "code",
   "execution_count": 201,
   "metadata": {},
   "outputs": [],
   "source": [
    "# creating new dataframe monthly diff \n",
    "monthly_diff_temp=pd.DataFrame()\n",
    "# concating both ref_temp dataframe\n",
    "monthly_diff_temp= pd.concat([ref_temp_helsinki,ref_temp_sodankyla],axis=1)"
   ]
  },
  {
   "cell_type": "code",
   "execution_count": 204,
   "metadata": {},
   "outputs": [],
   "source": [
    "#ccaluclating monthly diffencein helsinki and sodankyla\n",
    "monthly_diff_temp['monthly_diff']=monthly_diff_temp['ref_temp_helsinki']-monthly_diff_temp['ref_temp']"
   ]
  },
  {
   "cell_type": "code",
   "execution_count": 210,
   "metadata": {},
   "outputs": [],
   "source": [
    "# saving this difference in csv\n",
    "monthly_diff_temp['monthly_diff'].to_csv('data/monthly_difference_helsinki_sodankyla.csv',index=False,float_format='%.2f')"
   ]
  }
 ],
 "metadata": {
  "kernelspec": {
   "display_name": "yolox",
   "language": "python",
   "name": "yolox"
  },
  "language_info": {
   "codemirror_mode": {
    "name": "ipython",
    "version": 3
   },
   "file_extension": ".py",
   "mimetype": "text/x-python",
   "name": "python",
   "nbconvert_exporter": "python",
   "pygments_lexer": "ipython3",
   "version": "3.9.13"
  }
 },
 "nbformat": 4,
 "nbformat_minor": 2
}
